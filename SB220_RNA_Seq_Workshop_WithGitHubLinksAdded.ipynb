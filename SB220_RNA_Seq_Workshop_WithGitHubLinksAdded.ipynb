{
  "nbformat": 4,
  "nbformat_minor": 0,
  "metadata": {
    "colab": {
      "name": "SB220_RNA-Seq_Workshop_WithGitHubLinksAdded.ipynb",
      "version": "0.3.2",
      "provenance": []
    },
    "kernelspec": {
      "display_name": "Python 3",
      "language": "python",
      "name": "python3"
    }
  },
  "cells": [
    {
      "metadata": {
        "id": "-CL7bspPvMgq",
        "colab_type": "text"
      },
      "cell_type": "markdown",
      "source": [
        "## **Welcome to the SB320qc RNA-Seq Workshop**\n",
        "\n",
        "In this hands-on workshop you will be introduced to RNA-Seq data analysis, as well as multiple hypothesis testing and RNA composition bias.\n",
        "\n",
        "\n",
        "\n",
        "\n",
        "\n",
        "\n"
      ]
    },
    {
      "metadata": {
        "id": "G5iEHHG7wPX8",
        "colab_type": "code",
        "colab": {}
      },
      "cell_type": "code",
      "source": [
        "### Added notes from Max ###\n",
        "\n",
        "# Define the following URLs as variables for input into pd.read_csv()\n",
        "\n",
        "# For example:\n",
        "\n",
        "# URL_Variable = \"Github Link\"\n",
        "# DataFrame_1 = pd.read_csv(URL)\n",
        "\n",
        "\n",
        "\n",
        "# The URLs for needed files are hosted on GitHub:\n",
        "\n",
        "URL_Pickrell_countsMatrix = \"https://raw.githubusercontent.com/maxgmarin/SB220_RNAseq_Workshop/master/Pickrell_countsMatrix.txt\"\n",
        "\n",
        "URL_Pickrell_sampleAnnotations = \"https://raw.githubusercontent.com/maxgmarin/SB220_RNAseq_Workshop/master/Pickrell_sampleAnnotations.txt\"\n",
        "\n",
        "URL_Ulhen_countsMatrix = \"https://raw.githubusercontent.com/maxgmarin/SB220_RNAseq_Workshop/master/Ulhen_countsMatrix.txt\""
      ],
      "execution_count": 0,
      "outputs": []
    },
    {
      "metadata": {
        "id": "Bj3-YIw4vMgr",
        "colab_type": "text"
      },
      "cell_type": "markdown",
      "source": [
        "Import statements:"
      ]
    },
    {
      "metadata": {
        "id": "Vl0EINwcvMgs",
        "colab_type": "code",
        "colab": {}
      },
      "cell_type": "code",
      "source": [
        "%matplotlib inline\n",
        "import pandas as pd\n",
        "import numpy as np\n",
        "import scipy as sp\n",
        "import matplotlib.pyplot as plt"
      ],
      "execution_count": 0,
      "outputs": []
    },
    {
      "metadata": {
        "id": "XJLAimIhvMgx",
        "colab_type": "text"
      },
      "cell_type": "markdown",
      "source": [
        "**1** \n",
        "\n",
        "**Comparing gene expression between male and female human cell lines and dealing with multiple hypothesis testing.**\n",
        "\n",
        "In this section you will be identifying genes whose expression level is significantly different in male vs. female immortalized lymphoblastic cell lines. "
      ]
    },
    {
      "metadata": {
        "id": "zg4iNgafvMgy",
        "colab_type": "text"
      },
      "cell_type": "markdown",
      "source": [
        "**1.1**\n",
        "\n",
        "We've taken the raw reads from Pickrell et al., *Nature* 2010, aligned them to the human reference genome, and counted how many reads map to each gene. The result is a matrix of read counts per gene per sample. Read counts are a proxy for gene expression, but will require some normalization before we can interpret them.\n",
        "\n",
        "Read in the counts matrix from the file 'Pickrell_countsMatrix.txt' into a Pandas dataframe. Print the `head()` of this dataframe."
      ]
    },
    {
      "metadata": {
        "id": "DiSoch4YvMgz",
        "colab_type": "code",
        "colab": {
          "base_uri": "https://localhost:8080/",
          "height": 253
        },
        "outputId": "fb705218-3ea1-4cea-cf14-4fbfcd0a70b0"
      },
      "cell_type": "code",
      "source": [
        "Pickrell_Counts_DF = pd.read_csv(URL_Pickrell_countsMatrix, sep=\"\\t\")\n",
        "Pickrell_Counts_DF.head()"
      ],
      "execution_count": 6,
      "outputs": [
        {
          "output_type": "execute_result",
          "data": {
            "text/html": [
              "<div>\n",
              "<style scoped>\n",
              "    .dataframe tbody tr th:only-of-type {\n",
              "        vertical-align: middle;\n",
              "    }\n",
              "\n",
              "    .dataframe tbody tr th {\n",
              "        vertical-align: top;\n",
              "    }\n",
              "\n",
              "    .dataframe thead th {\n",
              "        text-align: right;\n",
              "    }\n",
              "</style>\n",
              "<table border=\"1\" class=\"dataframe\">\n",
              "  <thead>\n",
              "    <tr style=\"text-align: right;\">\n",
              "      <th></th>\n",
              "      <th>Geneid</th>\n",
              "      <th>Chr</th>\n",
              "      <th>Start</th>\n",
              "      <th>End</th>\n",
              "      <th>Strand</th>\n",
              "      <th>Length</th>\n",
              "      <th>NA18486</th>\n",
              "      <th>NA18498</th>\n",
              "      <th>NA18499</th>\n",
              "      <th>NA18501</th>\n",
              "      <th>...</th>\n",
              "      <th>NA19204</th>\n",
              "      <th>NA19206</th>\n",
              "      <th>NA19207</th>\n",
              "      <th>NA19209</th>\n",
              "      <th>NA19210</th>\n",
              "      <th>NA19222</th>\n",
              "      <th>NA19225</th>\n",
              "      <th>NA19238</th>\n",
              "      <th>NA19239</th>\n",
              "      <th>NA19257</th>\n",
              "    </tr>\n",
              "  </thead>\n",
              "  <tbody>\n",
              "    <tr>\n",
              "      <th>0</th>\n",
              "      <td>PKP1</td>\n",
              "      <td>chr1;chr1;chr1;chr1;chr1;chr1;chr1;chr1;chr1;c...</td>\n",
              "      <td>201283452;201293942;201313166;201316553;201317...</td>\n",
              "      <td>201283904;201294045;201313560;201316697;201317...</td>\n",
              "      <td>+;+;+;+;+;+;+;+;+;+;+;+;+;+;+</td>\n",
              "      <td>5447.0</td>\n",
              "      <td>0</td>\n",
              "      <td>0</td>\n",
              "      <td>0</td>\n",
              "      <td>0</td>\n",
              "      <td>...</td>\n",
              "      <td>0</td>\n",
              "      <td>0</td>\n",
              "      <td>0</td>\n",
              "      <td>0</td>\n",
              "      <td>0</td>\n",
              "      <td>0</td>\n",
              "      <td>0</td>\n",
              "      <td>0</td>\n",
              "      <td>0</td>\n",
              "      <td>0</td>\n",
              "    </tr>\n",
              "    <tr>\n",
              "      <th>1</th>\n",
              "      <td>RERE</td>\n",
              "      <td>chr1;chr1;chr1;chr1;chr1;chr1;chr1;chr1;chr1;c...</td>\n",
              "      <td>8352404;8355419;8356100;8358196;8359764;836011...</td>\n",
              "      <td>8355120;8355599;8356246;8358916;8359986;836149...</td>\n",
              "      <td>-;-;-;-;-;-;-;-;-;-;-;-;-;-;-;-;-;-;-;-;-;-;-;-;-</td>\n",
              "      <td>8321.0</td>\n",
              "      <td>0</td>\n",
              "      <td>1</td>\n",
              "      <td>0</td>\n",
              "      <td>0</td>\n",
              "      <td>...</td>\n",
              "      <td>0</td>\n",
              "      <td>2</td>\n",
              "      <td>0</td>\n",
              "      <td>0</td>\n",
              "      <td>0</td>\n",
              "      <td>0</td>\n",
              "      <td>1</td>\n",
              "      <td>0</td>\n",
              "      <td>1</td>\n",
              "      <td>0</td>\n",
              "    </tr>\n",
              "    <tr>\n",
              "      <th>2</th>\n",
              "      <td>HIVEP3</td>\n",
              "      <td>chr1;chr1;chr1;chr1;chr1;chr1;chr1;chr1;chr1;c...</td>\n",
              "      <td>41506365;41512816;41518402;41524735;41575544;4...</td>\n",
              "      <td>41511266;41513750;41518488;41524910;41575689;4...</td>\n",
              "      <td>-;-;-;-;-;-;-;-;-;-;-;-</td>\n",
              "      <td>14115.0</td>\n",
              "      <td>1414</td>\n",
              "      <td>1176</td>\n",
              "      <td>685</td>\n",
              "      <td>1042</td>\n",
              "      <td>...</td>\n",
              "      <td>843</td>\n",
              "      <td>1159</td>\n",
              "      <td>2253</td>\n",
              "      <td>1531</td>\n",
              "      <td>2955</td>\n",
              "      <td>595</td>\n",
              "      <td>611</td>\n",
              "      <td>952</td>\n",
              "      <td>1362</td>\n",
              "      <td>1095</td>\n",
              "    </tr>\n",
              "    <tr>\n",
              "      <th>3</th>\n",
              "      <td>CSMD2</td>\n",
              "      <td>chr1;chr1;chr1;chr1;chr1;chr1;chr1;chr1;chr1;c...</td>\n",
              "      <td>33513999;33519465;33519812;33521463;33523307;3...</td>\n",
              "      <td>33516570;33519677;33519950;33521550;33523419;3...</td>\n",
              "      <td>-;-;-;-;-;-;-;-;-;-;-;-;-;-;-;-;-;-;-;-;-;-;-;...</td>\n",
              "      <td>13920.0</td>\n",
              "      <td>475</td>\n",
              "      <td>358</td>\n",
              "      <td>349</td>\n",
              "      <td>237</td>\n",
              "      <td>...</td>\n",
              "      <td>196</td>\n",
              "      <td>320</td>\n",
              "      <td>576</td>\n",
              "      <td>630</td>\n",
              "      <td>459</td>\n",
              "      <td>106</td>\n",
              "      <td>364</td>\n",
              "      <td>301</td>\n",
              "      <td>292</td>\n",
              "      <td>563</td>\n",
              "    </tr>\n",
              "    <tr>\n",
              "      <th>4</th>\n",
              "      <td>SLC44A5</td>\n",
              "      <td>chr1;chr1;chr1;chr1;chr1;chr1;chr1;chr1;chr1;c...</td>\n",
              "      <td>75202131;75206390;75211468;75213705;75213919;7...</td>\n",
              "      <td>75203833;75206719;75211552;75213793;75213989;7...</td>\n",
              "      <td>-;-;-;-;-;-;-;-;-;-;-;-;-;-;-;-;-;-;-;-;-;-;-;-;-</td>\n",
              "      <td>4224.0</td>\n",
              "      <td>1</td>\n",
              "      <td>2</td>\n",
              "      <td>1</td>\n",
              "      <td>0</td>\n",
              "      <td>...</td>\n",
              "      <td>0</td>\n",
              "      <td>1</td>\n",
              "      <td>0</td>\n",
              "      <td>0</td>\n",
              "      <td>0</td>\n",
              "      <td>0</td>\n",
              "      <td>0</td>\n",
              "      <td>2</td>\n",
              "      <td>2</td>\n",
              "      <td>0</td>\n",
              "    </tr>\n",
              "  </tbody>\n",
              "</table>\n",
              "<p>5 rows × 80 columns</p>\n",
              "</div>"
            ],
            "text/plain": [
              "    Geneid                                                Chr  \\\n",
              "0     PKP1  chr1;chr1;chr1;chr1;chr1;chr1;chr1;chr1;chr1;c...   \n",
              "1     RERE  chr1;chr1;chr1;chr1;chr1;chr1;chr1;chr1;chr1;c...   \n",
              "2   HIVEP3  chr1;chr1;chr1;chr1;chr1;chr1;chr1;chr1;chr1;c...   \n",
              "3    CSMD2  chr1;chr1;chr1;chr1;chr1;chr1;chr1;chr1;chr1;c...   \n",
              "4  SLC44A5  chr1;chr1;chr1;chr1;chr1;chr1;chr1;chr1;chr1;c...   \n",
              "\n",
              "                                               Start  \\\n",
              "0  201283452;201293942;201313166;201316553;201317...   \n",
              "1  8352404;8355419;8356100;8358196;8359764;836011...   \n",
              "2  41506365;41512816;41518402;41524735;41575544;4...   \n",
              "3  33513999;33519465;33519812;33521463;33523307;3...   \n",
              "4  75202131;75206390;75211468;75213705;75213919;7...   \n",
              "\n",
              "                                                 End  \\\n",
              "0  201283904;201294045;201313560;201316697;201317...   \n",
              "1  8355120;8355599;8356246;8358916;8359986;836149...   \n",
              "2  41511266;41513750;41518488;41524910;41575689;4...   \n",
              "3  33516570;33519677;33519950;33521550;33523419;3...   \n",
              "4  75203833;75206719;75211552;75213793;75213989;7...   \n",
              "\n",
              "                                              Strand   Length  NA18486  \\\n",
              "0                      +;+;+;+;+;+;+;+;+;+;+;+;+;+;+   5447.0        0   \n",
              "1  -;-;-;-;-;-;-;-;-;-;-;-;-;-;-;-;-;-;-;-;-;-;-;-;-   8321.0        0   \n",
              "2                            -;-;-;-;-;-;-;-;-;-;-;-  14115.0     1414   \n",
              "3  -;-;-;-;-;-;-;-;-;-;-;-;-;-;-;-;-;-;-;-;-;-;-;...  13920.0      475   \n",
              "4  -;-;-;-;-;-;-;-;-;-;-;-;-;-;-;-;-;-;-;-;-;-;-;-;-   4224.0        1   \n",
              "\n",
              "   NA18498  NA18499  NA18501   ...     NA19204  NA19206  NA19207  NA19209  \\\n",
              "0        0        0        0   ...           0        0        0        0   \n",
              "1        1        0        0   ...           0        2        0        0   \n",
              "2     1176      685     1042   ...         843     1159     2253     1531   \n",
              "3      358      349      237   ...         196      320      576      630   \n",
              "4        2        1        0   ...           0        1        0        0   \n",
              "\n",
              "   NA19210  NA19222  NA19225  NA19238  NA19239  NA19257  \n",
              "0        0        0        0        0        0        0  \n",
              "1        0        0        1        0        1        0  \n",
              "2     2955      595      611      952     1362     1095  \n",
              "3      459      106      364      301      292      563  \n",
              "4        0        0        0        2        2        0  \n",
              "\n",
              "[5 rows x 80 columns]"
            ]
          },
          "metadata": {
            "tags": []
          },
          "execution_count": 6
        }
      ]
    },
    {
      "metadata": {
        "id": "rvmSt0kcvMg2",
        "colab_type": "text"
      },
      "cell_type": "markdown",
      "source": [
        "**1.2**\n",
        "\n",
        "We'd like to compute gene expression levels for each gene in each sample. \n",
        "\n",
        "*From now on, consider only genes for which we detect at least 1 count in at least 3 samples.* This will require you to filter your data to remove genes failing this criterion. \n",
        "\n",
        "For each gene in each sample, compute RPKM (reads per kilo-base of exon model per million reads) values:\n",
        "\n",
        "$$RPKM_g = \\frac{r_g+0.5}{((R+1)/10^6)(l_g/10^3)}$$\n",
        "\n",
        "Where $r_g$ is read counts for gene *g*, 0.5 is a pseudo-count we're adding to the read counts, *R* is the total number of reads in the sample, 1 is a pseudo-count we're adding to *R*, and $l_g$ is the length in basepairs of the union of the exons of gene *g*.\n",
        "\n",
        "Print the `head` of the resulting dataframe."
      ]
    },
    {
      "metadata": {
        "id": "Tha8qVRZvMg3",
        "colab_type": "code",
        "colab": {}
      },
      "cell_type": "code",
      "source": [
        ""
      ],
      "execution_count": 0,
      "outputs": []
    },
    {
      "metadata": {
        "id": "5_cveQWovMg5",
        "colab_type": "text"
      },
      "cell_type": "markdown",
      "source": [
        "**1.3**\n",
        "\n",
        "Plot the average $log_2(RPKM_g)$ of male vs. female samples.\n",
        "\n",
        "To distinguish female from male samples, use the sample annotations in the file 'Pickrell_sampleAnnotations.txt'\n",
        "\n",
        "Describe what you see."
      ]
    },
    {
      "metadata": {
        "id": "SK2f1PHxvMg6",
        "colab_type": "code",
        "colab": {},
        "outputId": "e3e63502-3135-4375-af14-da618b0d50dc"
      },
      "cell_type": "code",
      "source": [
        "fig = plt.figure(figsize=(6,6))\n",
        "ax = fig.add_subplot(111)\n",
        "\n"
      ],
      "execution_count": 0,
      "outputs": [
        {
          "output_type": "display_data",
          "data": {
            "image/png": "[encoded data removed]",
            "text/plain": [
              "<matplotlib.figure.Figure at 0x10feaeda0>"
            ]
          },
          "metadata": {
            "tags": []
          }
        }
      ]
    },
    {
      "metadata": {
        "id": "5hFCOTx6vMg_",
        "colab_type": "text"
      },
      "cell_type": "markdown",
      "source": [
        "**1.4**\n",
        "\n",
        "Make an MA plot to visualize your data.\n",
        "\n",
        "$$M_g = log_2(\\frac{RPKM_g,male}{RPKM_g,female})$$\n",
        "\n",
        "$$A_g = \\frac{log_2(RPKM_g,male) + log_2(RPKM_g,female)}{2}$$\n",
        "\n",
        "An MA plot is a scatter plot with the $M_g$ values on the y-axis and the $A_g$ values on the x-axis.\n",
        "\n",
        "Describe what you see."
      ]
    },
    {
      "metadata": {
        "id": "3CVDsDAYvMg_",
        "colab_type": "code",
        "colab": {},
        "outputId": "af410bbe-c698-4307-cee1-b45ab821e711"
      },
      "cell_type": "code",
      "source": [
        "fig = plt.figure(figsize=(6,6))\n",
        "ax = fig.add_subplot(111)\n",
        "\n"
      ],
      "execution_count": 0,
      "outputs": [
        {
          "output_type": "display_data",
          "data": {
            "image/png": "[encoded data removed]",
            "text/plain": [
              "<matplotlib.figure.Figure at 0x1152685c0>"
            ]
          },
          "metadata": {
            "tags": []
          }
        }
      ]
    },
    {
      "metadata": {
        "id": "rE__PNV9vMhD",
        "colab_type": "text"
      },
      "cell_type": "markdown",
      "source": [
        "**1.5**\n",
        "\n",
        "For each gene, use the Student's *t*-test to test the null hypothesis that the (mean population) expression level of the gene is the same in female and male samples.\n",
        "\n",
        "You will have to compute a *p*-value separately for each gene. For this exercise, compute the *t*-statistic from it's definition, then use `scipy.stats.t` to obtain the cumulative density function of the relevant distribution. "
      ]
    },
    {
      "metadata": {
        "id": "E6FMWJmlvMhE",
        "colab_type": "code",
        "colab": {}
      },
      "cell_type": "code",
      "source": [
        ""
      ],
      "execution_count": 0,
      "outputs": []
    },
    {
      "metadata": {
        "id": "OLneBKgQvMhG",
        "colab_type": "text"
      },
      "cell_type": "markdown",
      "source": [
        "**1.6**\n",
        "\n",
        "For how many of genes can you reject the null hypothesis at a significance criterion of 0.05? What is the smallest p-value?\n",
        "\n",
        "Does this seem like a lot or a little? Do all genes seem to have functions or features that make sense?"
      ]
    },
    {
      "metadata": {
        "id": "gn7ACcyFvMhH",
        "colab_type": "code",
        "colab": {}
      },
      "cell_type": "code",
      "source": [
        ""
      ],
      "execution_count": 0,
      "outputs": []
    },
    {
      "metadata": {
        "id": "43o0yzzsvMhJ",
        "colab_type": "text"
      },
      "cell_type": "markdown",
      "source": [
        "**1.7**\n",
        "\n",
        "Plot your data as a volcano plot: $-log_{10}(p)$ (y-axis) vs $log_2(foldchange) (x-axis)$.\n",
        "\n",
        "Describe what you see."
      ]
    },
    {
      "metadata": {
        "id": "Re3XTwI6vMhK",
        "colab_type": "code",
        "colab": {},
        "outputId": "5fb1ea73-7352-4eb7-9615-f2f9c4c0af57"
      },
      "cell_type": "code",
      "source": [
        "fig = plt.figure(figsize=(6,6))\n",
        "ax = fig.add_subplot(111)\n",
        "\n"
      ],
      "execution_count": 0,
      "outputs": [
        {
          "output_type": "display_data",
          "data": {
            "image/png": "[encoded data removed]",
            "text/plain": [
              "<matplotlib.figure.Figure at 0x1150fdba8>"
            ]
          },
          "metadata": {
            "tags": []
          }
        }
      ]
    },
    {
      "metadata": {
        "id": "fEMMFSRUvMhN",
        "colab_type": "text"
      },
      "cell_type": "markdown",
      "source": [
        "**1.8**\n",
        "\n",
        "Rather than rejecting the null hypothesis for all genes with $p<0.05$, perform a correction for multiple hypothesis testing. Use either the Bonferroni or the Benjamini-Hochberg procedure. Justify your choice."
      ]
    },
    {
      "metadata": {
        "id": "LjjqK9LdvMhO",
        "colab_type": "code",
        "colab": {}
      },
      "cell_type": "code",
      "source": [
        ""
      ],
      "execution_count": 0,
      "outputs": []
    },
    {
      "metadata": {
        "id": "nw8Mreo6vMhR",
        "colab_type": "text"
      },
      "cell_type": "markdown",
      "source": [
        "**1.9**\n",
        "\n",
        "For how many genes can you reject the null? In other words, how many genes can you conclude are differentially expressed between the male and female samples? Do the functions or features of these genes make sense?"
      ]
    },
    {
      "metadata": {
        "id": "gapk4rk5vMhR",
        "colab_type": "code",
        "colab": {}
      },
      "cell_type": "code",
      "source": [
        ""
      ],
      "execution_count": 0,
      "outputs": []
    },
    {
      "metadata": {
        "id": "LGDHc4hYvMhU",
        "colab_type": "text"
      },
      "cell_type": "markdown",
      "source": [
        "**1.10**\n",
        "\n",
        "When and why are procedures for multiple hypothesis testing -- such as the Bonferonni and the Benjamini-Hochberg procedure -- necessary?"
      ]
    },
    {
      "metadata": {
        "id": "JT7lK_bovMhV",
        "colab_type": "text"
      },
      "cell_type": "markdown",
      "source": [
        ""
      ]
    },
    {
      "metadata": {
        "id": "Jxn3z3jDvMhV",
        "colab_type": "text"
      },
      "cell_type": "markdown",
      "source": [
        "**2** \n",
        "\n",
        "**Comparing gene expression between liver and kidney human tissues and recognizing RNA composition bias.**\n",
        "\n",
        "In this section you'll be examining a much smaller data set of only 2 samples. You'll compare the gene expression of a human liver sample to that of a human kidney sample."
      ]
    },
    {
      "metadata": {
        "id": "QOeFkKj0vMhW",
        "colab_type": "text"
      },
      "cell_type": "markdown",
      "source": [
        "**2.1**\n",
        "\n",
        "To help explain an important concept in RNA-Seq analysis, consider the following problem:\n",
        "\n",
        "Imagine an opaque urn containing 10 red balls, 20 white balls, and 20 blue balls. You can't see how many balls are inside, nor their colors. If you reach in and draw 10 balls from this urn, on average, how many of each color ball would you expect to draw?\n",
        "\n",
        "Now imagine a second identical urn, except with 50 additional blue balls added in. If you draw 10 balls, on average, how many of each color ball would you expect to draw?\n",
        "\n",
        "How would you go about figuring out whether the number of red balls differs between the two urns? What makes this problem hard?"
      ]
    },
    {
      "metadata": {
        "collapsed": true,
        "id": "7rxemU5tvMhW",
        "colab_type": "text"
      },
      "cell_type": "markdown",
      "source": [
        ""
      ]
    },
    {
      "metadata": {
        "id": "1tuiB1m0vMhX",
        "colab_type": "text"
      },
      "cell_type": "markdown",
      "source": [
        "**2.2**\n",
        "\n",
        "Repeat steps 1.1 through 1.4 above, but this time read in the counts matrix from Ulhen et al. comparing liver and kidney human tissue: 'Ulhen_countsMatrix.txt'.\n",
        "\n",
        "Describe what you see in the MA plot and compare it to the MA plot from Section 1."
      ]
    },
    {
      "metadata": {
        "id": "AE5qITqovMhY",
        "colab_type": "code",
        "colab": {}
      },
      "cell_type": "code",
      "source": [
        ""
      ],
      "execution_count": 0,
      "outputs": []
    },
    {
      "metadata": {
        "id": "NEVcV4vDvMhc",
        "colab_type": "text"
      },
      "cell_type": "markdown",
      "source": [
        "**2.3**\n",
        "\n",
        "Choose a handful (5) of 'housekeeping genes' and remake the MA plot above, highlighting these housekeeping genes.\n",
        "\n",
        "What are housekeeping genes? Describe what you see in the MA plot."
      ]
    },
    {
      "metadata": {
        "id": "FdwcRYBxvMhe",
        "colab_type": "code",
        "colab": {}
      },
      "cell_type": "code",
      "source": [
        ""
      ],
      "execution_count": 0,
      "outputs": []
    },
    {
      "metadata": {
        "id": "-pxhZKgjvMhk",
        "colab_type": "text"
      },
      "cell_type": "markdown",
      "source": [
        "**2.4**\n",
        "\n",
        "Discuss what might be causing what you're observing in the MA plot. Suggest an approach you could take to correct for this issue."
      ]
    },
    {
      "metadata": {
        "id": "jGoZzgHRvMhk",
        "colab_type": "code",
        "colab": {}
      },
      "cell_type": "code",
      "source": [
        ""
      ],
      "execution_count": 0,
      "outputs": []
    }
  ]
}