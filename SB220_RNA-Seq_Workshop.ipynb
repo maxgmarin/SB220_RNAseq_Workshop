{
 "cells": [
  {
   "cell_type": "markdown",
   "metadata": {},
   "source": [
    "## **Welcome to the SB320qc RNA-Seq Workshop**\n",
    "\n",
    "In this hands-on workshop you will be introduced to RNA-Seq data analysis, as well as multiple hypothesis testing and RNA composition bias."
   ]
  },
  {
   "cell_type": "markdown",
   "metadata": {},
   "source": [
    "Import statements:"
   ]
  },
  {
   "cell_type": "code",
   "execution_count": 2,
   "metadata": {},
   "outputs": [],
   "source": [
    "%matplotlib inline\n",
    "import pandas as pd\n",
    "import numpy as np\n",
    "import scipy as sp\n",
    "import matplotlib.pyplot as plt"
   ]
  },
  {
   "cell_type": "markdown",
   "metadata": {},
   "source": [
    "**1** \n",
    "\n",
    "**Comparing gene expression between male and female human cell lines and dealing with multiple hypothesis testing.**\n",
    "\n",
    "In this section you will be identifying genes whose expression level is significantly different in male vs. female immortalized lymphoblastic cell lines. "
   ]
  },
  {
   "cell_type": "markdown",
   "metadata": {},
   "source": [
    "**1.1**\n",
    "\n",
    "We've taken the raw reads from Pickrell et al., *Nature* 2010, aligned them to the human reference genome, and counted how many reads map to each gene. The result is a matrix of read counts per gene per sample. Read counts are a proxy for gene expression, but will require some normalization before we can interpret them.\n",
    "\n",
    "Read in the counts matrix from the file 'Pickrell_countsMatrix.txt' into a Pandas dataframe. Print the `head()` of this dataframe."
   ]
  },
  {
   "cell_type": "code",
   "execution_count": null,
   "metadata": {},
   "outputs": [],
   "source": []
  },
  {
   "cell_type": "markdown",
   "metadata": {},
   "source": [
    "**1.2**\n",
    "\n",
    "We'd like to compute gene expression levels for each gene in each sample. \n",
    "\n",
    "*From now on, consider only genes for which we detect at least 1 count in at least 3 samples.* This will require you to filter your data to remove genes failing this criterion. \n",
    "\n",
    "For each gene in each sample, compute RPKM (reads per kilo-base of exon model per million reads) values:\n",
    "\n",
    "$$RPKM_g = \\frac{r_g+0.5}{((R+1)/10^6)(l_g/10^3)}$$\n",
    "\n",
    "Where $r_g$ is read counts for gene *g*, 0.5 is a pseudo-count we're adding to the read counts, *R* is the total number of reads in the sample, 1 is a pseudo-count we're adding to *R*, and $l_g$ is the length in basepairs of the union of the exons of gene *g*.\n",
    "\n",
    "Print the `head` of the resulting dataframe."
   ]
  },
  {
   "cell_type": "code",
   "execution_count": null,
   "metadata": {
    "collapsed": true
   },
   "outputs": [],
   "source": []
  },
  {
   "cell_type": "markdown",
   "metadata": {},
   "source": [
    "**1.3**\n",
    "\n",
    "Plot the average $log_2(RPKM_g)$ of male vs. female samples.\n",
    "\n",
    "To distinguish female from male samples, use the sample annotations in the file 'Pickrell_sampleAnnotations.txt'\n",
    "\n",
    "Describe what you see."
   ]
  },
  {
   "cell_type": "code",
   "execution_count": 3,
   "metadata": {},
   "outputs": [
    {
     "data": {
      "image/png": "[encoded data removed]",
      "text/plain": [
       "<matplotlib.figure.Figure at 0x10feaeda0>"
      ]
     },
     "metadata": {},
     "output_type": "display_data"
    }
   ],
   "source": [
    "fig = plt.figure(figsize=(6,6))\n",
    "ax = fig.add_subplot(111)\n",
    "\n"
   ]
  },
  {
   "cell_type": "markdown",
   "metadata": {},
   "source": [
    "**1.4**\n",
    "\n",
    "Make an MA plot to visualize your data.\n",
    "\n",
    "$$M_g = log_2(\\frac{RPKM_g,male}{RPKM_g,female})$$\n",
    "\n",
    "$$A_g = \\frac{log_2(RPKM_g,male) + log_2(RPKM_g,female)}{2}$$\n",
    "\n",
    "An MA plot is a scatter plot with the $M_g$ values on the y-axis and the $A_g$ values on the x-axis.\n",
    "\n",
    "Describe what you see."
   ]
  },
  {
   "cell_type": "code",
   "execution_count": 5,
   "metadata": {},
   "outputs": [
    {
     "data": {
      "image/png": "[encoded data removed]",
      "text/plain": [
       "<matplotlib.figure.Figure at 0x1152685c0>"
      ]
     },
     "metadata": {},
     "output_type": "display_data"
    }
   ],
   "source": [
    "fig = plt.figure(figsize=(6,6))\n",
    "ax = fig.add_subplot(111)\n",
    "\n"
   ]
  },
  {
   "cell_type": "markdown",
   "metadata": {},
   "source": [
    "**1.5**\n",
    "\n",
    "For each gene, use the Student's *t*-test to test the null hypothesis that the (mean population) expression level of the gene is the same in female and male samples.\n",
    "\n",
    "You will have to compute a *p*-value separately for each gene. For this exercise, compute the *t*-statistic from it's definition, then use `scipy.stats.t` to obtain the cumulative density function of the relevant distribution. "
   ]
  },
  {
   "cell_type": "code",
   "execution_count": null,
   "metadata": {},
   "outputs": [],
   "source": []
  },
  {
   "cell_type": "markdown",
   "metadata": {},
   "source": [
    "**1.6**\n",
    "\n",
    "For how many of genes can you reject the null hypothesis at a significance criterion of 0.05? What is the smallest p-value?\n",
    "\n",
    "Does this seem like a lot or a little? Do all genes seem to have functions or features that make sense?"
   ]
  },
  {
   "cell_type": "code",
   "execution_count": null,
   "metadata": {},
   "outputs": [],
   "source": []
  },
  {
   "cell_type": "markdown",
   "metadata": {},
   "source": [
    "**1.7**\n",
    "\n",
    "Plot your data as a volcano plot: $-log_{10}(p)$ (y-axis) vs $log_2(foldchange) (x-axis)$.\n",
    "\n",
    "Describe what you see."
   ]
  },
  {
   "cell_type": "code",
   "execution_count": 4,
   "metadata": {},
   "outputs": [
    {
     "data": {
      "image/png": "[encoded data removed]",
      "text/plain": [
       "<matplotlib.figure.Figure at 0x1150fdba8>"
      ]
     },
     "metadata": {},
     "output_type": "display_data"
    }
   ],
   "source": [
    "fig = plt.figure(figsize=(6,6))\n",
    "ax = fig.add_subplot(111)\n",
    "\n"
   ]
  },
  {
   "cell_type": "markdown",
   "metadata": {},
   "source": [
    "**1.8**\n",
    "\n",
    "Rather than rejecting the null hypothesis for all genes with $p<0.05$, perform a correction for multiple hypothesis testing. Use either the Bonferroni or the Benjamini-Hochberg procedure. Justify your choice."
   ]
  },
  {
   "cell_type": "code",
   "execution_count": null,
   "metadata": {},
   "outputs": [],
   "source": []
  },
  {
   "cell_type": "markdown",
   "metadata": {},
   "source": [
    "**1.9**\n",
    "\n",
    "For how many genes can you reject the null? In other words, how many genes can you conclude are differentially expressed between the male and female samples? Do the functions or features of these genes make sense?"
   ]
  },
  {
   "cell_type": "code",
   "execution_count": null,
   "metadata": {
    "collapsed": true
   },
   "outputs": [],
   "source": []
  },
  {
   "cell_type": "markdown",
   "metadata": {},
   "source": [
    "**1.10**\n",
    "\n",
    "When and why are procedures for multiple hypothesis testing -- such as the Bonferonni and the Benjamini-Hochberg procedure -- necessary?"
   ]
  },
  {
   "cell_type": "markdown",
   "metadata": {},
   "source": []
  },
  {
   "cell_type": "markdown",
   "metadata": {},
   "source": [
    "**2** \n",
    "\n",
    "**Comparing gene expression between liver and kidney human tissues and recognizing RNA composition bias.**\n",
    "\n",
    "In this section you'll be examining a much smaller data set of only 2 samples. You'll compare the gene expression of a human liver sample to that of a human kidney sample."
   ]
  },
  {
   "cell_type": "markdown",
   "metadata": {},
   "source": [
    "**2.1**\n",
    "\n",
    "To help explain an important concept in RNA-Seq analysis, consider the following problem:\n",
    "\n",
    "Imagine an opaque urn containing 10 red balls, 20 white balls, and 20 blue balls. You can't see how many balls are inside, nor their colors. If you reach in and draw 10 balls from this urn, on average, how many of each color ball would you expect to draw?\n",
    "\n",
    "Now imagine a second identical urn, except with 50 additional blue balls added in. If you draw 10 balls, on average, how many of each color ball would you expect to draw?\n",
    "\n",
    "How would you go about figuring out whether the number of red balls differs between the two urns? What makes this problem hard?"
   ]
  },
  {
   "cell_type": "markdown",
   "metadata": {
    "collapsed": true
   },
   "source": []
  },
  {
   "cell_type": "markdown",
   "metadata": {},
   "source": [
    "**2.2**\n",
    "\n",
    "Repeat steps 1.1 through 1.4 above, but this time read in the counts matrix from Ulhen et al. comparing liver and kidney human tissue: 'Ulhen_countsMatrix.txt'.\n",
    "\n",
    "Describe what you see in the MA plot and compare it to the MA plot from Section 1."
   ]
  },
  {
   "cell_type": "code",
   "execution_count": null,
   "metadata": {},
   "outputs": [],
   "source": []
  },
  {
   "cell_type": "markdown",
   "metadata": {},
   "source": [
    "**2.3**\n",
    "\n",
    "Choose a handful (5) of 'housekeeping genes' and remake the MA plot above, highlighting these housekeeping genes.\n",
    "\n",
    "What are housekeeping genes? Describe what you see in the MA plot."
   ]
  },
  {
   "cell_type": "code",
   "execution_count": null,
   "metadata": {},
   "outputs": [],
   "source": []
  },
  {
   "cell_type": "markdown",
   "metadata": {},
   "source": [
    "**2.4**\n",
    "\n",
    "Discuss what might be causing what you're observing in the MA plot. Suggest an approach you could take to correct for this issue."
   ]
  },
  {
   "cell_type": "code",
   "execution_count": null,
   "metadata": {},
   "outputs": [],
   "source": []
  }
 ],
 "metadata": {
  "anaconda-cloud": {},
  "kernelspec": {
   "display_name": "Python 3",
   "language": "python",
   "name": "python3"
  },
  "language_info": {
   "codemirror_mode": {
    "name": "ipython",
    "version": 3
   },
   "file_extension": ".py",
   "mimetype": "text/x-python",
   "name": "python",
   "nbconvert_exporter": "python",
   "pygments_lexer": "ipython3",
   "version": "3.6.6"
  }
 },
 "nbformat": 4,
 "nbformat_minor": 2
}
